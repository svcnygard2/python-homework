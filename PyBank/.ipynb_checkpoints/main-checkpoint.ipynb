{
 "cells": [
  {
   "cell_type": "code",
   "execution_count": 3,
   "metadata": {},
   "outputs": [
    {
     "name": "stdout",
     "output_type": "stream",
     "text": [
      "Financial Analysis\n",
      "----------------------------\n",
      "Total Months: 86\n",
      "Total: $38382578.0\n",
      "Average Change: $6269.05\n",
      "Greatest Increase in Profits: ($1926159.0)\n",
      "Greatest Decrease in Profits: ($-2196167.0)\n"
     ]
    }
   ],
   "source": [
    "#import correct library\n",
    "import csv\n",
    "from pathlib import Path\n",
    "\n",
    "#declare variables/ lists\n",
    "count_month=0\n",
    "total_pnl=0\n",
    "average_change=0\n",
    "minimum=0\n",
    "maximum=0\n",
    "pnl_change=0\n",
    "pnl_prior=0\n",
    "total_change=0\n",
    "\n",
    "#pull .csv file\n",
    "new_path=Path(\"budget_data.csv\")\n",
    "\n",
    "#open .csv file and start reading the data on the \"next\" line\n",
    "with open(new_path) as csv_file:\n",
    "    next(csv_file)\n",
    "    csv_reader = csv.reader(csv_file, delimiter=',')\n",
    "\n",
    "    #declared and named both columns \"date\" and \"pnl\"\n",
    "    for data in csv_reader:\n",
    "        date = data[0]\n",
    "        pnl = float(data[1])\n",
    "  \n",
    "        #setting equations up for the total_pnl and pnl_change\n",
    "        #created a month counter\n",
    "        total_pnl += pnl\n",
    "        pnl_change = pnl - pnl_prior\n",
    "        pnl_prior = pnl\n",
    "        count_month += 1\n",
    "        \n",
    "        #created a loop to look through the numbers and decide the\n",
    "        #max and min values\n",
    "        if minimum == 0:\n",
    "            minimum = pnl_change\n",
    "        elif pnl_change < minimum:\n",
    "            minimum = pnl_change\n",
    "        elif pnl_change > maximum:\n",
    "            maximum = pnl_change\n",
    "    \n",
    "    #stores the values as it passes through the code\n",
    "    total_change += pnl_change\n",
    "    \n",
    "    #calculates average change\n",
    "    average_change = round(total_change / 85, 2)\n",
    "    \n",
    "#Print final results\n",
    "print(\"Financial Analysis\")\n",
    "print(\"----------------------------\")\n",
    "print(f\"Total Months: {count_month}\")\n",
    "print(f\"Total: ${total_pnl}\")\n",
    "print(f\"Average Change: ${average_change}\")\n",
    "print(f\"Greatest Increase in Profits: (${maximum})\")\n",
    "print(f\"Greatest Decrease in Profits: (${minimum})\")"
   ]
  },
  {
   "cell_type": "code",
   "execution_count": null,
   "metadata": {},
   "outputs": [],
   "source": []
  }
 ],
 "metadata": {
  "kernelspec": {
   "display_name": "Python 3",
   "language": "python",
   "name": "python3"
  },
  "language_info": {
   "codemirror_mode": {
    "name": "ipython",
    "version": 3
   },
   "file_extension": ".py",
   "mimetype": "text/x-python",
   "name": "python",
   "nbconvert_exporter": "python",
   "pygments_lexer": "ipython3",
   "version": "3.7.7"
  }
 },
 "nbformat": 4,
 "nbformat_minor": 4
}
